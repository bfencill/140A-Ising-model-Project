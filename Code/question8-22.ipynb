{
 "cells": [
  {
   "cell_type": "markdown",
   "metadata": {},
   "source": [
    "# Problem 8.22\n",
    "\n",
    "Consider an Ising model in the presence of an external magnetic field $B$, which gives each dipole an additional energy of $-\\mu_B B$ if it points up and $+\\mu_B B$ if it points down (where $\\mu_B$ is the dipole's magnetic moment). Analyze this system using the mean field approximation to find the analogue of equation 8.50. Study the solutions of the equation graphically, and discuss the magnetization of this sytem as a function of both the external field strength and the temperature. Sketch the region in the $T-B$ plane for which the equation has three solutions."
   ]
  }
 ],
 "metadata": {
  "language_info": {
   "name": "python"
  }
 },
 "nbformat": 4,
 "nbformat_minor": 2
}
