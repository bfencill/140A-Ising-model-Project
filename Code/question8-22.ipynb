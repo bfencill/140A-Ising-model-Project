{
 "cells": [
  {
   "cell_type": "markdown",
   "metadata": {},
   "source": [
    "# Problem 8.22\n",
    "\n",
    "Consider an Ising model in the presence of an external magnetic field $B$, which gives each dipole an additional energy of $-\\mu_B B$ if it points up and $+\\mu_B B$ if it points down (where $\\mu_B$ is the dipole's magnetic moment). Analyze this system using the mean field approximation to find the analogue of equation 8.50. Study the solutions of the equation graphically, and discuss the magnetization of this sytem as a function of both the external field strength and the temperature. Sketch the region in the $T-B$ plane for which the equation has three solutions."
   ]
  },
  {
   "cell_type": "markdown",
   "metadata": {},
   "source": [
    "### Equation 8.50: \n",
    "##### $\\bar{s}=tanh(\\beta \\epsilon n \\bar{s}_{actual})$\n",
    "Where $\\bar{s}$ is the average dipole alignment across the system, $n$ is the number of nearest neighbors that the dipole has, $\\epsilon$ is the mutual interaction energy, and $\\beta \\equiv 1/kT$, $\\bar{s}_{actual}$ is the average of actual instantaneuous alignments of this dipole's n neighbors."
   ]
  },
  {
   "cell_type": "markdown",
   "metadata": {},
   "source": [
    "For our problem, $E_{\\uparrow}=(-\\epsilon - \\mu_B B)\\sum_{neighbors} s_{neighbor} = (-\\epsilon - \\mu_B B)(n\\bar{s})$ and\n",
    "$E_{\\downarrow}=(\\epsilon + \\mu_B B)\\sum_{neighbors} s_{neighbor} = (\\epsilon + \\mu_B B)(n\\bar{s})$\n",
    "\n",
    "Then, our partition function is $Z_i = e^{\\beta(\\epsilon + \\mu_B B)(n\\bar{s})} +e^{-\\beta(\\epsilon + \\mu_B B)(n\\bar{s})}=2\\cosh{(\\beta(\\epsilon + \\mu_B B)(n\\bar{s}))}$\n",
    "\n",
    "$\\bar{s}_i = (1/Z_i)((1)e^{\\beta(\\epsilon + \\mu_B B)(n\\bar{s})} +(-1)e^{-\\beta(\\epsilon + \\mu_B B)(n\\bar{s})})=2\\cosh{(\\beta(\\epsilon + \\mu_B B)(n\\bar{s}))}=\\tanh{(\\beta(\\epsilon + \\mu_B B)(n\\bar{s}))}$\n",
    "\n",
    "so $\\bar{s}=\\tanh{(\\beta(\\epsilon + \\mu_B B)(n\\bar{s}))}$\n",
    "\n"
   ]
  }
 ],
 "metadata": {
  "language_info": {
   "name": "python"
  }
 },
 "nbformat": 4,
 "nbformat_minor": 2
}
