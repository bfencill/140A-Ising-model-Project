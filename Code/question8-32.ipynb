{
 "cells": [
  {
   "cell_type": "markdown",
   "metadata": {},
   "source": [
    "# Problem 8.32\n",
    "\n",
    "Imagine taking a two-dimensional Ising lattice and dividing the sites into 3x3 \"blocks\", as showin in Figure 8.11. In a **block spin transformation**, we replace the nine dipoles in each block with a single dipole, whose state is determined by \"majority rule\": If more than half of the original dipoles point up, then the new dipole points up, while if more than half of the original dipoles point down, then the new dipole points down. By applying this transofrmation to the entire lattice, we reduce it to a new lattice whose width is 1/3 the original width. This transformation is one version of a **renormalization group transformation**, a powerful technique for studying the behavior of systems near their critical points."
   ]
  },
  {
   "cell_type": "markdown",
   "metadata": {},
   "source": [
    "## Part A\n",
    "\n",
    "Add a routine to the ising program to apply a block spin transformation to the current state of the lattice, drawing the transformed lattice alongside the original. (Leave the original lattice unchanged.) Have the program execute this routine periodically, so you can observe the evolution of both lattices."
   ]
  },
  {
   "cell_type": "markdown",
   "metadata": {},
   "source": [
    "## Part B\n",
    "\n",
    "Run your modified program with a 90x90 original lattice, at a variet of temperatures. After the system has equilibrated to a \"typical\" state at each temperature, compare the transformed lattice to a typical 30x30 piece of the original lattice. In general you shouldf ind that the transformed lattice resembles an original lattice at a *different* temperature. Let us call this temperature the \"transformed temperature\". When is the transformewd temperature greater than the original temperature, and when is it less?"
   ]
  },
  {
   "cell_type": "markdown",
   "metadata": {},
   "source": [
    "## Part C\n",
    "\n",
    "Imagine starting with a very large lattice and applying many block spin transformations in succession, each time taking the system to a new effective temperature. Argue that, no matter what the original temperature, this procedure will eventually take you to one of three **fixed points**: zero, infinity, or the critical temperature. For what initial temperAtures will you end up at each fixed point? [Comment: Think about the implications of the fact that the critical temperature is a fixed point of the block spin transformation. If averaging over the small-scale state of the system leaves the dynamics unchanged, then many aspects of the behavior of this system must be independt of any specific microscopic details. This implies that many different physical systems (magnets, fluids, and so on) should have essentially the same critical behavior. More specifically, the different systems will have the same \"critical exponenets\", such as those defined in Problems 5.55 and 8.24. There are, however, two parameters that can still affect the crical behavior. One is the dimensionality of the space that the system is in (3 for most real-world systems); the other is the dimensionality oft he \"vector\" that defines the magnetization (or the analogous \"order parameter\") of the system. For the Ising model, the magnetization is one-dimensional, always along a given axis; for a fluid, the order parameter is also a one-dimensional quantity, the difference in density between liquid and gas. Therefore the behavior of a fluid near its critical point should be the same as that of a three-dimensional Ising model.]"
   ]
  }
 ],
 "metadata": {
  "language_info": {
   "name": "python"
  }
 },
 "nbformat": 4,
 "nbformat_minor": 2
}
