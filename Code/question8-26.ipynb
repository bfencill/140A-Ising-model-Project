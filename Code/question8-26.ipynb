{
 "cells": [
  {
   "cell_type": "markdown",
   "metadata": {},
   "source": [
    "# Problem 8.26\n",
    "\n",
    "Implement the $\\text{ising}$ program on your favorite computer, using your favorite programming language. Run it for various lattice sizes and temperatures and observe the results."
   ]
  },
  {
   "cell_type": "markdown",
   "metadata": {},
   "source": [
    "## Part A\n",
    "\n",
    "Run the program with a 20x20 lattice at $\\text{T}=10,5,4,3,$ and $2.5$, for at least 100 iterations per dipole per run. At each temperature make a rough estimate of the size of the largest clusters."
   ]
  },
  {
   "cell_type": "markdown",
   "metadata": {},
   "source": [
    "## Part B\n",
    "\n",
    "Repeat Part A for a 40x40 lattice. Are the cluster sizes any different? Explain."
   ]
  },
  {
   "cell_type": "markdown",
   "metadata": {},
   "source": [
    "## Part C\n",
    "\n",
    "Run the program with a 20x20 lattice at $\\text{T}=2,1.5,$ and $1$. Estimate the average magnetization (as a percentage of total saturation) at each of these temperatures. Disregard runs in which the system gets stuck in a metastable state with two dimensions."
   ]
  },
  {
   "cell_type": "markdown",
   "metadata": {},
   "source": [
    "## Part D\n",
    "\n",
    "Run the program with a 10x10 lattice at $\\text{T}=2.5$. Watch it run for 100,000 iterations oor so. Describe and explain the behavior."
   ]
  },
  {
   "cell_type": "markdown",
   "metadata": {},
   "source": [
    "## Part E\n",
    "\n",
    "Use successively larger lattices to estimate the typical cluster size at temperatuers from $2.5$ down to $2.27$ (the critical temperature). The closer you are to the critical temperature, the larger a lattice you'll need and the longer the program will have to run. Quit when you realize that there are better ways to spend your time. Is it plausible that the cluster size goes to infinity as the temperature approaches the critical temperatures?"
   ]
  }
 ],
 "metadata": {
  "kernelspec": {
   "display_name": "Python 3",
   "language": "python",
   "name": "python3"
  },
  "language_info": {
   "name": "python",
   "version": "3.11.4"
  }
 },
 "nbformat": 4,
 "nbformat_minor": 2
}
